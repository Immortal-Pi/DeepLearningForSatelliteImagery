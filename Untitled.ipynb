{
 "cells": [
  {
   "cell_type": "markdown",
   "id": "be06d26f-010f-4fc7-8185-5550cefdf082",
   "metadata": {},
   "source": [
    "# Load the model "
   ]
  },
  {
   "cell_type": "code",
   "execution_count": 1,
   "id": "9f3bffaa-6617-424d-86fa-06936e692ab6",
   "metadata": {},
   "outputs": [],
   "source": [
    "from keras.models import load_model"
   ]
  },
  {
   "cell_type": "code",
   "execution_count": null,
   "id": "6129bffc-2f78-4faa-9a88-5325d6ef6f29",
   "metadata": {},
   "outputs": [],
   "source": [
    "saved_model=load_model('satellite_segmentation_full.h5',\n",
    "                       custom_objects=({'loss':total_loss})\n",
    "                      )"
   ]
  }
 ],
 "metadata": {
  "kernelspec": {
   "display_name": "tf",
   "language": "python",
   "name": "tf"
  },
  "language_info": {
   "codemirror_mode": {
    "name": "ipython",
    "version": 3
   },
   "file_extension": ".py",
   "mimetype": "text/x-python",
   "name": "python",
   "nbconvert_exporter": "python",
   "pygments_lexer": "ipython3",
   "version": "3.9.18"
  }
 },
 "nbformat": 4,
 "nbformat_minor": 5
}
